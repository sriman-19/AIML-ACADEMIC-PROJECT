{
 "cells": [
  {
   "cell_type": "code",
   "execution_count": 5,
   "id": "2f5c792f",
   "metadata": {},
   "outputs": [
    {
     "name": "stdout",
     "output_type": "stream",
     "text": [
      "25\n"
     ]
    }
   ],
   "source": [
    "def max_min(node, depth, maximizing_player):\n",
    "    if depth == 0 or is_leaf_node(node):\n",
    "        return evaluate(node)\n",
    "\n",
    "    if maximizing_player:\n",
    "        max_eval = float('-inf')\n",
    "        for child in get_children(node):\n",
    "            eval = max_min(child, depth - 1, False)\n",
    "            max_eval = max(max_eval, eval)\n",
    "        return max_eval\n",
    "    else:\n",
    "        min_eval = float('inf')\n",
    "        for child in get_children(node):\n",
    "            eval = max_min(child, depth - 1, True)\n",
    "            min_eval = min(min_eval, eval)\n",
    "        return min_eval\n",
    "\n",
    "# Example functions (you need to define these according to your scenario)\n",
    "def is_leaf_node(node):\n",
    "    # Check if the node is a leaf node (has no children)\n",
    "    return not node['children']\n",
    "\n",
    "def evaluate(node):\n",
    "    # Return the value associated with the leaf node\n",
    "    return node['value']\n",
    "\n",
    "def get_children(node):\n",
    "    # Return a list of children nodes\n",
    "    return node['children']\n",
    "\n",
    "# Example scenario\n",
    "node_b = {'value': None, 'children': [{'value': 12, 'children': []}, {'value': 10, 'children': []}]}\n",
    "node_c = {'value': None, 'children': [{'value': 36, 'children': []}, {'value': 25, 'children': []}]}\n",
    "node_a = {'value': None, 'children': [node_b, node_c]}\n",
    "\n",
    "result = max_min(node_a, depth=3, maximizing_player=True)\n",
    "print(result)\n"
   ]
  },
  {
   "cell_type": "code",
   "execution_count": null,
   "id": "7b5ea9dc",
   "metadata": {},
   "outputs": [],
   "source": []
  }
 ],
 "metadata": {
  "kernelspec": {
   "display_name": "Python 3 (ipykernel)",
   "language": "python",
   "name": "python3"
  },
  "language_info": {
   "codemirror_mode": {
    "name": "ipython",
    "version": 3
   },
   "file_extension": ".py",
   "mimetype": "text/x-python",
   "name": "python",
   "nbconvert_exporter": "python",
   "pygments_lexer": "ipython3",
   "version": "3.7.12"
  }
 },
 "nbformat": 4,
 "nbformat_minor": 5
}
